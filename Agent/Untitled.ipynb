{
 "cells": [
  {
   "cell_type": "code",
   "execution_count": 1,
   "metadata": {},
   "outputs": [],
   "source": [
    "import numpy as np\n",
    "import torch\n",
    "from Memory.dataset import Feeder"
   ]
  },
  {
   "cell_type": "code",
   "execution_count": 10,
   "metadata": {},
   "outputs": [
    {
     "name": "stdout",
     "output_type": "stream",
     "text": [
      "[array([0, 0, 0]), array([ 1,  0, 39]), array([ 2,  0, 39]), array([ 3,  0, 40]), array([ 4,  0, 39]), array([ 5,  0, 40]), array([ 6,  0, 40]), array([ 7,  0, 40]), array([ 8,  0, 40]), array([ 9,  0, 40]), array([10,  0, 40]), array([10,  1, 36]), array([11,  1, 40]), array([12,  1, 40]), array([13,  1, 39]), array([14,  1, 40]), array([15,  1, 40]), array([16,  1, 39]), array([17,  1, 39]), array([18,  1, 40]), array([18,  2, 39]), array([19,  2, 40]), array([20,  2, 40]), array([21,  2, 39]), array([22,  2, 39]), array([23,  2, 39]), array([24,  2, 40]), array([25,  2, 40]), array([25,  3, 38]), array([26,  3, 38]), array([26,  4, 40]), array([27,  4, 38]), array([28,  4, 19]), array([28,  5, 40]), array([29,  5, 40]), array([30,  5, 22]), array([30,  6, 27]), array([31,  6, 31]), array([32,  6, 30]), array([32,  7, 40]), array([33,  7, 35]), array([34,  7, 37]), array([35,  7, 15]), array([35,  8, 40]), array([36,  8, 36]), array([37,  8, 14]), array([37,  9, 10]), array([38,  9, 39]), array([39,  9, 32]), array([40,  9, 38]), array([40, 10, 39]), array([41, 10, 34]), array([42, 10, 39]), array([43, 10, 37]), array([44, 10, 40]), array([45, 10, 24]), array([45, 11, 40]), array([45, 12, 32]), array([45, 13, 39]), array([46, 13, 39]), array([47, 13, 39]), array([47, 14, 40]), array([48, 14, 40]), array([49, 14, 33]), array([50, 14,  6]), array([50, 15, 40]), array([51, 15, 36]), array([52, 15, 34]), array([53, 15, 38]), array([53, 16, 39]), array([54, 16, 39]), array([55, 16, 36]), array([56, 16, 40]), array([56, 17, 40]), array([56, 18, 40]), array([56, 19, 29]), array([57, 19, 38]), array([57, 20, 40]), array([58, 20, 40]), array([59, 20, 39]), array([60, 20, 35]), array([61, 20, 36]), array([62, 20, 39]), array([62, 21,  7]), array([62, 22, 40]), array([63, 22, 40]), array([64, 22, 38]), array([65, 22, 37]), array([66, 22, 40]), array([66, 23, 40]), array([67, 23, 36]), array([68, 23, 18]), array([69, 23, 33]), array([69, 24, 40]), array([70, 24, 40]), array([70, 25, 10]), array([70, 26, 39]), array([71, 26, 38]), array([72, 26, 40]), array([73, 26, 38]), array([74, 26, 20]), array([75, 26, 39]), array([75, 27, 19]), array([75, 28, 40]), array([76, 28, 39]), array([77, 28, 40]), array([78, 28, 32]), array([78, 29, 32]), array([79, 29, 26]), array([80, 29, 31]), array([80, 30, 40]), array([81, 30, 37]), array([81, 31, 33]), array([82, 31, 37]), array([82, 32, 37]), array([83, 32, 32]), array([83, 33, 39]), array([84, 33, 37]), array([85, 33, 30]), array([86, 33, 22]), array([86, 34, 39]), array([87, 34, 18]), array([88, 34, 38]), array([89, 34, 40]), array([90, 34, 40]), array([91, 34, 28]), array([91, 35, 13]), array([91, 36, 40]), array([92, 36, 38]), array([93, 36, 27]), array([94, 36, 39]), array([95, 36, 32]), array([95, 37, 40]), array([96, 37, 34]), array([97, 37, 40]), array([98, 37, 39]), array([99, 37, 39]), array([99, 38, 40]), array([100,  38,  36]), array([101,  38,  34]), array([102,  38,  39])]\n"
     ]
    }
   ],
   "source": [
    "win = np.load('Fight/DQN.npy')\n",
    "win = list(win)\n",
    "print(win)"
   ]
  },
  {
   "cell_type": "code",
   "execution_count": 5,
   "metadata": {},
   "outputs": [
    {
     "data": {
      "text/plain": [
       "['Collecting plotly',\n",
       " '  Downloading plotly-4.14.3-py2.py3-none-any.whl (13.2 MB)',\n",
       " 'Requirement already satisfied: six in c:\\\\users\\\\kietcap\\\\appdata\\\\roaming\\\\python\\\\python38\\\\site-packages (from plotly) (1.15.0)',\n",
       " 'Collecting retrying>=1.3.3',\n",
       " '  Using cached retrying-1.3.3-py3-none-any.whl',\n",
       " 'Installing collected packages: retrying, plotly',\n",
       " 'Successfully installed plotly-4.14.3 retrying-1.3.3']"
      ]
     },
     "execution_count": 5,
     "metadata": {},
     "output_type": "execute_result"
    }
   ],
   "source": [
    "!!pip3 install plotly"
   ]
  },
  {
   "cell_type": "code",
   "execution_count": 2,
   "metadata": {},
   "outputs": [],
   "source": [
    "dataset = Feeder('Log/ImitationLog/Train/')"
   ]
  },
  {
   "cell_type": "code",
   "execution_count": 3,
   "metadata": {},
   "outputs": [
    {
     "name": "stdout",
     "output_type": "stream",
     "text": [
      "313321\n"
     ]
    }
   ],
   "source": [
    "print(len(dataset))"
   ]
  },
  {
   "cell_type": "code",
   "execution_count": 47,
   "metadata": {},
   "outputs": [
    {
     "data": {
      "text/plain": [
       "{'player_id': 1,\n",
       " 'player_life': 40,\n",
       " 'player_gold': 3,\n",
       " 'opponent_life': 40,\n",
       " 'time': 59.831241607666016,\n",
       " 'player_board_card_info': [{'id': 8, 'status': 2, 'damage': 2, 'life': 1},\n",
       "  {'id': 23, 'status': 1, 'damage': 1, 'life': 1},\n",
       "  {'id': 7, 'status': 0, 'damage': 1, 'life': 2},\n",
       "  {'id': -1, 'status': 0, 'damage': 0, 'life': 0},\n",
       "  {'id': -1, 'status': 0, 'damage': 0, 'life': 0},\n",
       "  {'id': -1, 'status': 0, 'damage': 0, 'life': 0},\n",
       "  {'id': -1, 'status': 0, 'damage': 0, 'life': 0}],\n",
       " 'opponent_board_card_info': [{'id': 8, 'status': 0, 'damage': 2, 'life': 2},\n",
       "  {'id': 7, 'status': 0, 'damage': 1, 'life': 2},\n",
       "  {'id': -1, 'status': 0, 'damage': 0, 'life': 0},\n",
       "  {'id': -1, 'status': 0, 'damage': 0, 'life': 0},\n",
       "  {'id': -1, 'status': 0, 'damage': 0, 'life': 0},\n",
       "  {'id': -1, 'status': 0, 'damage': 0, 'life': 0},\n",
       "  {'id': -1, 'status': 0, 'damage': 0, 'life': 0}],\n",
       " 'player_hand_card_id': [16, 31, -1, -1, -1, -1, -1, -1, -1],\n",
       " 'action': 133,\n",
       " 'reward': -100,\n",
       " 'average_reward': -206,\n",
       " 'best_reward': -115}"
      ]
     },
     "execution_count": 47,
     "metadata": {},
     "output_type": "execute_result"
    }
   ],
   "source": [
    "dataset[48]"
   ]
  },
  {
   "cell_type": "code",
   "execution_count": 45,
   "metadata": {},
   "outputs": [
    {
     "data": {
      "text/plain": [
       "{'player_id': 1,\n",
       " 'player_life': 40,\n",
       " 'player_gold': 3,\n",
       " 'opponent_life': 40,\n",
       " 'time': 59.914405822753906,\n",
       " 'player_board_card_info': [{'id': 8, 'status': 2, 'damage': 2, 'life': 1},\n",
       "  {'id': 23, 'status': 1, 'damage': 1, 'life': 1},\n",
       "  {'id': 7, 'status': 0, 'damage': 1, 'life': 2},\n",
       "  {'id': -1, 'status': 0, 'damage': 0, 'life': 0},\n",
       "  {'id': -1, 'status': 0, 'damage': 0, 'life': 0},\n",
       "  {'id': -1, 'status': 0, 'damage': 0, 'life': 0},\n",
       "  {'id': -1, 'status': 0, 'damage': 0, 'life': 0}],\n",
       " 'opponent_board_card_info': [{'id': 8, 'status': 0, 'damage': 2, 'life': 2},\n",
       "  {'id': 7, 'status': 0, 'damage': 1, 'life': 2},\n",
       "  {'id': -1, 'status': 0, 'damage': 0, 'life': 0},\n",
       "  {'id': -1, 'status': 0, 'damage': 0, 'life': 0},\n",
       "  {'id': -1, 'status': 0, 'damage': 0, 'life': 0},\n",
       "  {'id': -1, 'status': 0, 'damage': 0, 'life': 0},\n",
       "  {'id': -1, 'status': 0, 'damage': 0, 'life': 0}],\n",
       " 'player_hand_card_id': [16, 31, -1, -1, -1, -1, -1, -1, -1],\n",
       " 'action': 70,\n",
       " 'reward': -600,\n",
       " 'average_reward': -209,\n",
       " 'best_reward': -115}"
      ]
     },
     "execution_count": 45,
     "metadata": {},
     "output_type": "execute_result"
    }
   ],
   "source": [
    "dataset[47]"
   ]
  },
  {
   "cell_type": "code",
   "execution_count": 44,
   "metadata": {},
   "outputs": [
    {
     "name": "stdout",
     "output_type": "stream",
     "text": [
      "47\n"
     ]
    }
   ],
   "source": [
    "count = 0 \n",
    "\n",
    "for j,i in enumerate(dataset):\n",
    "    if i['action'] == 70:\n",
    "        print(j)\n",
    "        break"
   ]
  },
  {
   "cell_type": "code",
   "execution_count": 11,
   "metadata": {},
   "outputs": [
    {
     "name": "stderr",
     "output_type": "stream",
     "text": [
      "/home/kietcdx/myenv/lib/python3.6/site-packages/ipykernel_launcher.py:1: UserWarning: Implicit dimension choice for softmax has been deprecated. Change the call to include dim=X as an argument.\n",
      "  \"\"\"Entry point for launching an IPython kernel.\n"
     ]
    },
    {
     "data": {
      "text/plain": [
       "tensor([0.2689, 0.7311])"
      ]
     },
     "execution_count": 11,
     "metadata": {},
     "output_type": "execute_result"
    }
   ],
   "source": [
    "torch.nn.functional.softmax(torch.tensor([a,b]))"
   ]
  },
  {
   "cell_type": "code",
   "execution_count": 12,
   "metadata": {},
   "outputs": [
    {
     "name": "stderr",
     "output_type": "stream",
     "text": [
      "/home/kietcdx/myenv/lib/python3.6/site-packages/numpy/core/fromnumeric.py:3373: RuntimeWarning: Mean of empty slice.\n",
      "  out=out, **kwargs)\n",
      "/home/kietcdx/myenv/lib/python3.6/site-packages/numpy/core/_methods.py:170: RuntimeWarning: invalid value encountered in double_scalars\n",
      "  ret = ret.dtype.type(ret / rcount)\n"
     ]
    },
    {
     "data": {
      "text/plain": [
       "nan"
      ]
     },
     "execution_count": 12,
     "metadata": {},
     "output_type": "execute_result"
    }
   ],
   "source": [
    "np.mean([])"
   ]
  },
  {
   "cell_type": "code",
   "execution_count": 13,
   "metadata": {},
   "outputs": [
    {
     "name": "stderr",
     "output_type": "stream",
     "text": [
      "/home/kietcdx/myenv/lib/python3.6/site-packages/ipykernel_launcher.py:1: UserWarning: Implicit dimension choice for softmax has been deprecated. Change the call to include dim=X as an argument.\n",
      "  \"\"\"Entry point for launching an IPython kernel.\n"
     ]
    },
    {
     "data": {
      "text/plain": [
       "tensor([nan, nan])"
      ]
     },
     "execution_count": 13,
     "metadata": {},
     "output_type": "execute_result"
    }
   ],
   "source": [
    "torch.nn.functional.softmax(torch.tensor([np.nan,1]))"
   ]
  },
  {
   "cell_type": "code",
   "execution_count": null,
   "metadata": {},
   "outputs": [],
   "source": []
  }
 ],
 "metadata": {
  "kernelspec": {
   "display_name": "Python 3",
   "language": "python",
   "name": "python3"
  },
  "language_info": {
   "codemirror_mode": {
    "name": "ipython",
    "version": 3
   },
   "file_extension": ".py",
   "mimetype": "text/x-python",
   "name": "python",
   "nbconvert_exporter": "python",
   "pygments_lexer": "ipython3",
   "version": "3.8.5"
  }
 },
 "nbformat": 4,
 "nbformat_minor": 4
}
